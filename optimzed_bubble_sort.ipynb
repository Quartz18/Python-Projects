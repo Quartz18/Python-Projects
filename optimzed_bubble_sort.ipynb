{
 "cells": [
  {
   "cell_type": "code",
   "execution_count": null,
   "id": "8588b2eb",
   "metadata": {},
   "outputs": [],
   "source": [
    "\"\"\"\n",
    "Bubble sort is a sorting algorithm that compares two adjacent elements \n",
    "and swaps them until they are in the intended order.\n",
    "\"\"\""
   ]
  },
  {
   "cell_type": "code",
   "execution_count": 1,
   "id": "9f3b26a9",
   "metadata": {},
   "outputs": [],
   "source": [
    "#function for bubble sort algorithm\n",
    "def bubbleSort(array):\n",
    "    #setting swapped variable to False as a default for no swap taken place\n",
    "    swapped = False\n",
    "    for i in range(0,len(array)):\n",
    "        for j in range(0,len(array)-i-1):\n",
    "            #condition to check if the current element is greater than it next element\n",
    "            if(array[j]>array[j+1]):\n",
    "                #temporary variable to save the current element\n",
    "                temporary_variable = array[j]\n",
    "                #Elements are being swapped\n",
    "                array[j] = array[j+1]\n",
    "                array[j+1] = temporary_variable\n",
    "                swapped = True\n",
    "                j+=j\n",
    "        #this condition checks if the array is already sorted or not.\n",
    "        #if it's the sorted array, it will come of the main loop.\n",
    "        if swapped==False:\n",
    "            break\n",
    "    return array\n"
   ]
  },
  {
   "cell_type": "code",
   "execution_count": 2,
   "id": "4b8ec8e9",
   "metadata": {},
   "outputs": [
    {
     "name": "stdout",
     "output_type": "stream",
     "text": [
      "Please enter the numbers. If you want to stop adding numbers, hit enter: \n",
      "5\n",
      "2\n",
      "3\n",
      "7\n",
      "1\n",
      "\n",
      "Unsorted array:  [5, 2, 3, 7, 1]\n",
      "Sorted array:  [1, 2, 3, 5, 7]\n"
     ]
    }
   ],
   "source": [
    "array = []\n",
    "print(\"Please enter the numbers. If you want to stop adding numbers, hit enter: \")\n",
    "while(True):\n",
    "    element = input()\n",
    "    if element == '':\n",
    "        break\n",
    "    else:\n",
    "        array.append(int(element))\n",
    "\n",
    "print(\"Unsorted array: \",array)\n",
    "print(\"Sorted array: \", bubbleSort(array))"
   ]
  },
  {
   "cell_type": "code",
   "execution_count": null,
   "id": "1f92ec52",
   "metadata": {},
   "outputs": [],
   "source": []
  }
 ],
 "metadata": {
  "kernelspec": {
   "display_name": "Python 3 (ipykernel)",
   "language": "python",
   "name": "python3"
  },
  "language_info": {
   "codemirror_mode": {
    "name": "ipython",
    "version": 3
   },
   "file_extension": ".py",
   "mimetype": "text/x-python",
   "name": "python",
   "nbconvert_exporter": "python",
   "pygments_lexer": "ipython3",
   "version": "3.9.12"
  }
 },
 "nbformat": 4,
 "nbformat_minor": 5
}
